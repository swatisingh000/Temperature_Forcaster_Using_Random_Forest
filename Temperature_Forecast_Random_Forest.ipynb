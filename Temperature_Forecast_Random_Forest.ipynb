{
 "cells": [
  {
   "cell_type": "markdown",
   "metadata": {},
   "source": [
    "# Random Forest - Temperature Forecast\n",
    "\n",
    "### Predicting the max temperature for tomorrow in our city using one year of past weather data using Random Forest"
   ]
  },
  {
   "cell_type": "markdown",
   "metadata": {},
   "source": [
    "#### What data we have? \n",
    "\n",
    "- **one year of historical max temperatures data**\n",
    "\n",
    "**This is a supervised, regression machine learning problem.**"
   ]
  },
  {
   "cell_type": "markdown",
   "metadata": {},
   "source": [
    "# 1. Load Data"
   ]
  },
  {
   "cell_type": "code",
   "execution_count": 1,
   "metadata": {
    "hideCode": false,
    "hidePrompt": false
   },
   "outputs": [],
   "source": [
    "import pandas as pd"
   ]
  },
  {
   "cell_type": "code",
   "execution_count": 2,
   "metadata": {
    "hideCode": false,
    "hidePrompt": false
   },
   "outputs": [],
   "source": [
    "# Read in data as pandas dataframe and display first 5 rows\n",
    "features = pd.read_csv('temps.csv')"
   ]
  },
  {
   "cell_type": "code",
   "execution_count": 3,
   "metadata": {
    "hideCode": false,
    "hidePrompt": false
   },
   "outputs": [
    {
     "data": {
      "text/html": [
       "<div>\n",
       "<style scoped>\n",
       "    .dataframe tbody tr th:only-of-type {\n",
       "        vertical-align: middle;\n",
       "    }\n",
       "\n",
       "    .dataframe tbody tr th {\n",
       "        vertical-align: top;\n",
       "    }\n",
       "\n",
       "    .dataframe thead th {\n",
       "        text-align: right;\n",
       "    }\n",
       "</style>\n",
       "<table border=\"1\" class=\"dataframe\">\n",
       "  <thead>\n",
       "    <tr style=\"text-align: right;\">\n",
       "      <th></th>\n",
       "      <th>year</th>\n",
       "      <th>month</th>\n",
       "      <th>day</th>\n",
       "      <th>week</th>\n",
       "      <th>temp_2</th>\n",
       "      <th>temp_1</th>\n",
       "      <th>average</th>\n",
       "      <th>actual</th>\n",
       "      <th>friend</th>\n",
       "    </tr>\n",
       "  </thead>\n",
       "  <tbody>\n",
       "    <tr>\n",
       "      <th>0</th>\n",
       "      <td>2019</td>\n",
       "      <td>1</td>\n",
       "      <td>1</td>\n",
       "      <td>Fri</td>\n",
       "      <td>45</td>\n",
       "      <td>45</td>\n",
       "      <td>45.6</td>\n",
       "      <td>45</td>\n",
       "      <td>29</td>\n",
       "    </tr>\n",
       "    <tr>\n",
       "      <th>1</th>\n",
       "      <td>2019</td>\n",
       "      <td>1</td>\n",
       "      <td>2</td>\n",
       "      <td>Sat</td>\n",
       "      <td>44</td>\n",
       "      <td>45</td>\n",
       "      <td>45.7</td>\n",
       "      <td>44</td>\n",
       "      <td>61</td>\n",
       "    </tr>\n",
       "    <tr>\n",
       "      <th>2</th>\n",
       "      <td>2019</td>\n",
       "      <td>1</td>\n",
       "      <td>3</td>\n",
       "      <td>Sun</td>\n",
       "      <td>45</td>\n",
       "      <td>44</td>\n",
       "      <td>45.8</td>\n",
       "      <td>41</td>\n",
       "      <td>56</td>\n",
       "    </tr>\n",
       "    <tr>\n",
       "      <th>3</th>\n",
       "      <td>2019</td>\n",
       "      <td>1</td>\n",
       "      <td>4</td>\n",
       "      <td>Mon</td>\n",
       "      <td>44</td>\n",
       "      <td>41</td>\n",
       "      <td>45.9</td>\n",
       "      <td>40</td>\n",
       "      <td>53</td>\n",
       "    </tr>\n",
       "    <tr>\n",
       "      <th>4</th>\n",
       "      <td>2019</td>\n",
       "      <td>1</td>\n",
       "      <td>5</td>\n",
       "      <td>Tues</td>\n",
       "      <td>41</td>\n",
       "      <td>40</td>\n",
       "      <td>46.0</td>\n",
       "      <td>44</td>\n",
       "      <td>41</td>\n",
       "    </tr>\n",
       "  </tbody>\n",
       "</table>\n",
       "</div>"
      ],
      "text/plain": [
       "   year  month  day  week  temp_2  temp_1  average  actual  friend\n",
       "0  2019      1    1   Fri      45      45     45.6      45      29\n",
       "1  2019      1    2   Sat      44      45     45.7      44      61\n",
       "2  2019      1    3   Sun      45      44     45.8      41      56\n",
       "3  2019      1    4   Mon      44      41     45.9      40      53\n",
       "4  2019      1    5  Tues      41      40     46.0      44      41"
      ]
     },
     "execution_count": 3,
     "metadata": {},
     "output_type": "execute_result"
    }
   ],
   "source": [
    "features.head(5)"
   ]
  },
  {
   "cell_type": "markdown",
   "metadata": {},
   "source": [
    "# 2. Data Preparation"
   ]
  },
  {
   "cell_type": "markdown",
   "metadata": {},
   "source": [
    "#### Preprocessing Steps\n",
    "\n",
    "1) One-hot encoded categorical variables\n",
    "\n",
    "2) Split data into features and labels\n",
    "\n",
    "3) Convert to arrays\n",
    "\n",
    "4) Split data into training and testing sets"
   ]
  },
  {
   "cell_type": "code",
   "execution_count": 4,
   "metadata": {
    "hideCode": false,
    "hidePrompt": false
   },
   "outputs": [
    {
     "name": "stdout",
     "output_type": "stream",
     "text": [
      "The shape of our features is: (348, 9)\n"
     ]
    }
   ],
   "source": [
    "print('The shape of our features is:', features.shape)"
   ]
  },
  {
   "cell_type": "markdown",
   "metadata": {},
   "source": [
    "### 2.1 Identify anomalies using summary statistics."
   ]
  },
  {
   "cell_type": "code",
   "execution_count": 5,
   "metadata": {},
   "outputs": [
    {
     "data": {
      "text/html": [
       "<div>\n",
       "<style scoped>\n",
       "    .dataframe tbody tr th:only-of-type {\n",
       "        vertical-align: middle;\n",
       "    }\n",
       "\n",
       "    .dataframe tbody tr th {\n",
       "        vertical-align: top;\n",
       "    }\n",
       "\n",
       "    .dataframe thead th {\n",
       "        text-align: right;\n",
       "    }\n",
       "</style>\n",
       "<table border=\"1\" class=\"dataframe\">\n",
       "  <thead>\n",
       "    <tr style=\"text-align: right;\">\n",
       "      <th></th>\n",
       "      <th>year</th>\n",
       "      <th>month</th>\n",
       "      <th>day</th>\n",
       "      <th>temp_2</th>\n",
       "      <th>temp_1</th>\n",
       "      <th>average</th>\n",
       "      <th>actual</th>\n",
       "      <th>friend</th>\n",
       "    </tr>\n",
       "  </thead>\n",
       "  <tbody>\n",
       "    <tr>\n",
       "      <th>count</th>\n",
       "      <td>348.0</td>\n",
       "      <td>348.000000</td>\n",
       "      <td>348.000000</td>\n",
       "      <td>348.000000</td>\n",
       "      <td>348.000000</td>\n",
       "      <td>348.000000</td>\n",
       "      <td>348.000000</td>\n",
       "      <td>348.000000</td>\n",
       "    </tr>\n",
       "    <tr>\n",
       "      <th>mean</th>\n",
       "      <td>2019.0</td>\n",
       "      <td>6.477011</td>\n",
       "      <td>15.514368</td>\n",
       "      <td>62.652299</td>\n",
       "      <td>62.701149</td>\n",
       "      <td>59.760632</td>\n",
       "      <td>62.543103</td>\n",
       "      <td>60.034483</td>\n",
       "    </tr>\n",
       "    <tr>\n",
       "      <th>std</th>\n",
       "      <td>0.0</td>\n",
       "      <td>3.498380</td>\n",
       "      <td>8.772982</td>\n",
       "      <td>12.165398</td>\n",
       "      <td>12.120542</td>\n",
       "      <td>10.527306</td>\n",
       "      <td>11.794146</td>\n",
       "      <td>15.626179</td>\n",
       "    </tr>\n",
       "    <tr>\n",
       "      <th>min</th>\n",
       "      <td>2019.0</td>\n",
       "      <td>1.000000</td>\n",
       "      <td>1.000000</td>\n",
       "      <td>35.000000</td>\n",
       "      <td>35.000000</td>\n",
       "      <td>45.100000</td>\n",
       "      <td>35.000000</td>\n",
       "      <td>28.000000</td>\n",
       "    </tr>\n",
       "    <tr>\n",
       "      <th>25%</th>\n",
       "      <td>2019.0</td>\n",
       "      <td>3.000000</td>\n",
       "      <td>8.000000</td>\n",
       "      <td>54.000000</td>\n",
       "      <td>54.000000</td>\n",
       "      <td>49.975000</td>\n",
       "      <td>54.000000</td>\n",
       "      <td>47.750000</td>\n",
       "    </tr>\n",
       "    <tr>\n",
       "      <th>50%</th>\n",
       "      <td>2019.0</td>\n",
       "      <td>6.000000</td>\n",
       "      <td>15.000000</td>\n",
       "      <td>62.500000</td>\n",
       "      <td>62.500000</td>\n",
       "      <td>58.200000</td>\n",
       "      <td>62.500000</td>\n",
       "      <td>60.000000</td>\n",
       "    </tr>\n",
       "    <tr>\n",
       "      <th>75%</th>\n",
       "      <td>2019.0</td>\n",
       "      <td>10.000000</td>\n",
       "      <td>23.000000</td>\n",
       "      <td>71.000000</td>\n",
       "      <td>71.000000</td>\n",
       "      <td>69.025000</td>\n",
       "      <td>71.000000</td>\n",
       "      <td>71.000000</td>\n",
       "    </tr>\n",
       "    <tr>\n",
       "      <th>max</th>\n",
       "      <td>2019.0</td>\n",
       "      <td>12.000000</td>\n",
       "      <td>31.000000</td>\n",
       "      <td>117.000000</td>\n",
       "      <td>117.000000</td>\n",
       "      <td>77.400000</td>\n",
       "      <td>92.000000</td>\n",
       "      <td>95.000000</td>\n",
       "    </tr>\n",
       "  </tbody>\n",
       "</table>\n",
       "</div>"
      ],
      "text/plain": [
       "         year       month         day      temp_2      temp_1     average  \\\n",
       "count   348.0  348.000000  348.000000  348.000000  348.000000  348.000000   \n",
       "mean   2019.0    6.477011   15.514368   62.652299   62.701149   59.760632   \n",
       "std       0.0    3.498380    8.772982   12.165398   12.120542   10.527306   \n",
       "min    2019.0    1.000000    1.000000   35.000000   35.000000   45.100000   \n",
       "25%    2019.0    3.000000    8.000000   54.000000   54.000000   49.975000   \n",
       "50%    2019.0    6.000000   15.000000   62.500000   62.500000   58.200000   \n",
       "75%    2019.0   10.000000   23.000000   71.000000   71.000000   69.025000   \n",
       "max    2019.0   12.000000   31.000000  117.000000  117.000000   77.400000   \n",
       "\n",
       "           actual      friend  \n",
       "count  348.000000  348.000000  \n",
       "mean    62.543103   60.034483  \n",
       "std     11.794146   15.626179  \n",
       "min     35.000000   28.000000  \n",
       "25%     54.000000   47.750000  \n",
       "50%     62.500000   60.000000  \n",
       "75%     71.000000   71.000000  \n",
       "max     92.000000   95.000000  "
      ]
     },
     "execution_count": 5,
     "metadata": {},
     "output_type": "execute_result"
    }
   ],
   "source": [
    "# Descriptive statistics for each column\n",
    "features.describe()"
   ]
  },
  {
   "cell_type": "markdown",
   "metadata": {},
   "source": [
    "#### There are not any data points that immediately appear as anomalous and no zeros in any of the measurement columns."
   ]
  },
  {
   "cell_type": "code",
   "execution_count": 6,
   "metadata": {},
   "outputs": [],
   "source": [
    "# Use datetime for dealing with dates\n",
    "import datetime\n",
    "\n",
    "# Get years, months, and days\n",
    "years = features['year']\n",
    "months = features['month']\n",
    "days = features['day']\n",
    "\n",
    "# List and then convert to datetime object\n",
    "dates = [str(int(year)) + '-' + str(int(month)) + '-' + str(int(day)) for year, month, day in zip(years, months, days)]\n",
    "dates = [datetime.datetime.strptime(date, '%Y-%m-%d') for date in dates]\n",
    "#dates"
   ]
  },
  {
   "cell_type": "code",
   "execution_count": 7,
   "metadata": {},
   "outputs": [
    {
     "data": {
      "text/plain": [
       "[datetime.datetime(2019, 1, 1, 0, 0),\n",
       " datetime.datetime(2019, 1, 2, 0, 0),\n",
       " datetime.datetime(2019, 1, 3, 0, 0),\n",
       " datetime.datetime(2019, 1, 4, 0, 0),\n",
       " datetime.datetime(2019, 1, 5, 0, 0),\n",
       " datetime.datetime(2019, 1, 6, 0, 0),\n",
       " datetime.datetime(2019, 1, 7, 0, 0),\n",
       " datetime.datetime(2019, 1, 8, 0, 0),\n",
       " datetime.datetime(2019, 1, 9, 0, 0),\n",
       " datetime.datetime(2019, 1, 10, 0, 0),\n",
       " datetime.datetime(2019, 1, 11, 0, 0),\n",
       " datetime.datetime(2019, 1, 12, 0, 0),\n",
       " datetime.datetime(2019, 1, 13, 0, 0),\n",
       " datetime.datetime(2019, 1, 14, 0, 0),\n",
       " datetime.datetime(2019, 1, 15, 0, 0),\n",
       " datetime.datetime(2019, 1, 16, 0, 0),\n",
       " datetime.datetime(2019, 1, 17, 0, 0),\n",
       " datetime.datetime(2019, 1, 18, 0, 0),\n",
       " datetime.datetime(2019, 1, 19, 0, 0),\n",
       " datetime.datetime(2019, 1, 20, 0, 0),\n",
       " datetime.datetime(2019, 1, 21, 0, 0),\n",
       " datetime.datetime(2019, 1, 22, 0, 0),\n",
       " datetime.datetime(2019, 1, 23, 0, 0),\n",
       " datetime.datetime(2019, 1, 24, 0, 0),\n",
       " datetime.datetime(2019, 1, 25, 0, 0),\n",
       " datetime.datetime(2019, 1, 26, 0, 0),\n",
       " datetime.datetime(2019, 1, 27, 0, 0),\n",
       " datetime.datetime(2019, 1, 28, 0, 0),\n",
       " datetime.datetime(2019, 1, 29, 0, 0),\n",
       " datetime.datetime(2019, 1, 30, 0, 0),\n",
       " datetime.datetime(2019, 1, 31, 0, 0),\n",
       " datetime.datetime(2019, 2, 1, 0, 0),\n",
       " datetime.datetime(2019, 2, 2, 0, 0),\n",
       " datetime.datetime(2019, 2, 3, 0, 0),\n",
       " datetime.datetime(2019, 2, 4, 0, 0),\n",
       " datetime.datetime(2019, 2, 5, 0, 0),\n",
       " datetime.datetime(2019, 2, 6, 0, 0),\n",
       " datetime.datetime(2019, 2, 7, 0, 0),\n",
       " datetime.datetime(2019, 2, 8, 0, 0),\n",
       " datetime.datetime(2019, 2, 9, 0, 0),\n",
       " datetime.datetime(2019, 2, 10, 0, 0),\n",
       " datetime.datetime(2019, 2, 11, 0, 0),\n",
       " datetime.datetime(2019, 2, 12, 0, 0),\n",
       " datetime.datetime(2019, 2, 15, 0, 0),\n",
       " datetime.datetime(2019, 2, 16, 0, 0),\n",
       " datetime.datetime(2019, 2, 17, 0, 0),\n",
       " datetime.datetime(2019, 2, 18, 0, 0),\n",
       " datetime.datetime(2019, 2, 19, 0, 0),\n",
       " datetime.datetime(2019, 2, 20, 0, 0),\n",
       " datetime.datetime(2019, 2, 21, 0, 0),\n",
       " datetime.datetime(2019, 2, 22, 0, 0),\n",
       " datetime.datetime(2019, 2, 23, 0, 0),\n",
       " datetime.datetime(2019, 2, 24, 0, 0),\n",
       " datetime.datetime(2019, 2, 25, 0, 0),\n",
       " datetime.datetime(2019, 2, 26, 0, 0),\n",
       " datetime.datetime(2019, 2, 27, 0, 0),\n",
       " datetime.datetime(2019, 2, 28, 0, 0),\n",
       " datetime.datetime(2019, 3, 1, 0, 0),\n",
       " datetime.datetime(2019, 3, 2, 0, 0),\n",
       " datetime.datetime(2019, 3, 3, 0, 0),\n",
       " datetime.datetime(2019, 3, 4, 0, 0),\n",
       " datetime.datetime(2019, 3, 5, 0, 0),\n",
       " datetime.datetime(2019, 3, 6, 0, 0),\n",
       " datetime.datetime(2019, 3, 7, 0, 0),\n",
       " datetime.datetime(2019, 3, 8, 0, 0),\n",
       " datetime.datetime(2019, 3, 9, 0, 0),\n",
       " datetime.datetime(2019, 3, 10, 0, 0),\n",
       " datetime.datetime(2019, 3, 11, 0, 0),\n",
       " datetime.datetime(2019, 3, 12, 0, 0),\n",
       " datetime.datetime(2019, 3, 13, 0, 0),\n",
       " datetime.datetime(2019, 3, 14, 0, 0),\n",
       " datetime.datetime(2019, 3, 15, 0, 0),\n",
       " datetime.datetime(2019, 3, 16, 0, 0),\n",
       " datetime.datetime(2019, 3, 17, 0, 0),\n",
       " datetime.datetime(2019, 3, 18, 0, 0),\n",
       " datetime.datetime(2019, 3, 19, 0, 0),\n",
       " datetime.datetime(2019, 3, 20, 0, 0),\n",
       " datetime.datetime(2019, 3, 21, 0, 0),\n",
       " datetime.datetime(2019, 3, 22, 0, 0),\n",
       " datetime.datetime(2019, 3, 23, 0, 0),\n",
       " datetime.datetime(2019, 3, 24, 0, 0),\n",
       " datetime.datetime(2019, 3, 25, 0, 0),\n",
       " datetime.datetime(2019, 3, 26, 0, 0),\n",
       " datetime.datetime(2019, 3, 27, 0, 0),\n",
       " datetime.datetime(2019, 3, 28, 0, 0),\n",
       " datetime.datetime(2019, 3, 29, 0, 0),\n",
       " datetime.datetime(2019, 3, 30, 0, 0),\n",
       " datetime.datetime(2019, 3, 31, 0, 0),\n",
       " datetime.datetime(2019, 4, 1, 0, 0),\n",
       " datetime.datetime(2019, 4, 2, 0, 0),\n",
       " datetime.datetime(2019, 4, 3, 0, 0),\n",
       " datetime.datetime(2019, 4, 4, 0, 0),\n",
       " datetime.datetime(2019, 4, 5, 0, 0),\n",
       " datetime.datetime(2019, 4, 6, 0, 0),\n",
       " datetime.datetime(2019, 4, 7, 0, 0),\n",
       " datetime.datetime(2019, 4, 8, 0, 0),\n",
       " datetime.datetime(2019, 4, 9, 0, 0),\n",
       " datetime.datetime(2019, 4, 10, 0, 0),\n",
       " datetime.datetime(2019, 4, 11, 0, 0),\n",
       " datetime.datetime(2019, 4, 12, 0, 0),\n",
       " datetime.datetime(2019, 4, 13, 0, 0),\n",
       " datetime.datetime(2019, 4, 14, 0, 0),\n",
       " datetime.datetime(2019, 4, 15, 0, 0),\n",
       " datetime.datetime(2019, 4, 16, 0, 0),\n",
       " datetime.datetime(2019, 4, 17, 0, 0),\n",
       " datetime.datetime(2019, 4, 18, 0, 0),\n",
       " datetime.datetime(2019, 4, 19, 0, 0),\n",
       " datetime.datetime(2019, 4, 20, 0, 0),\n",
       " datetime.datetime(2019, 4, 21, 0, 0),\n",
       " datetime.datetime(2019, 4, 22, 0, 0),\n",
       " datetime.datetime(2019, 4, 23, 0, 0),\n",
       " datetime.datetime(2019, 4, 24, 0, 0),\n",
       " datetime.datetime(2019, 4, 25, 0, 0),\n",
       " datetime.datetime(2019, 4, 26, 0, 0),\n",
       " datetime.datetime(2019, 4, 27, 0, 0),\n",
       " datetime.datetime(2019, 4, 28, 0, 0),\n",
       " datetime.datetime(2019, 4, 29, 0, 0),\n",
       " datetime.datetime(2019, 4, 30, 0, 0),\n",
       " datetime.datetime(2019, 5, 1, 0, 0),\n",
       " datetime.datetime(2019, 5, 2, 0, 0),\n",
       " datetime.datetime(2019, 5, 3, 0, 0),\n",
       " datetime.datetime(2019, 5, 4, 0, 0),\n",
       " datetime.datetime(2019, 5, 5, 0, 0),\n",
       " datetime.datetime(2019, 5, 6, 0, 0),\n",
       " datetime.datetime(2019, 5, 7, 0, 0),\n",
       " datetime.datetime(2019, 5, 8, 0, 0),\n",
       " datetime.datetime(2019, 5, 9, 0, 0),\n",
       " datetime.datetime(2019, 5, 10, 0, 0),\n",
       " datetime.datetime(2019, 5, 11, 0, 0),\n",
       " datetime.datetime(2019, 5, 12, 0, 0),\n",
       " datetime.datetime(2019, 5, 13, 0, 0),\n",
       " datetime.datetime(2019, 5, 14, 0, 0),\n",
       " datetime.datetime(2019, 5, 15, 0, 0),\n",
       " datetime.datetime(2019, 5, 16, 0, 0),\n",
       " datetime.datetime(2019, 5, 17, 0, 0),\n",
       " datetime.datetime(2019, 5, 18, 0, 0),\n",
       " datetime.datetime(2019, 5, 19, 0, 0),\n",
       " datetime.datetime(2019, 5, 20, 0, 0),\n",
       " datetime.datetime(2019, 5, 21, 0, 0),\n",
       " datetime.datetime(2019, 5, 22, 0, 0),\n",
       " datetime.datetime(2019, 5, 23, 0, 0),\n",
       " datetime.datetime(2019, 5, 24, 0, 0),\n",
       " datetime.datetime(2019, 5, 25, 0, 0),\n",
       " datetime.datetime(2019, 5, 26, 0, 0),\n",
       " datetime.datetime(2019, 5, 27, 0, 0),\n",
       " datetime.datetime(2019, 5, 28, 0, 0),\n",
       " datetime.datetime(2019, 5, 29, 0, 0),\n",
       " datetime.datetime(2019, 5, 30, 0, 0),\n",
       " datetime.datetime(2019, 5, 31, 0, 0),\n",
       " datetime.datetime(2019, 6, 1, 0, 0),\n",
       " datetime.datetime(2019, 6, 2, 0, 0),\n",
       " datetime.datetime(2019, 6, 3, 0, 0),\n",
       " datetime.datetime(2019, 6, 4, 0, 0),\n",
       " datetime.datetime(2019, 6, 5, 0, 0),\n",
       " datetime.datetime(2019, 6, 6, 0, 0),\n",
       " datetime.datetime(2019, 6, 7, 0, 0),\n",
       " datetime.datetime(2019, 6, 8, 0, 0),\n",
       " datetime.datetime(2019, 6, 9, 0, 0),\n",
       " datetime.datetime(2019, 6, 10, 0, 0),\n",
       " datetime.datetime(2019, 6, 11, 0, 0),\n",
       " datetime.datetime(2019, 6, 12, 0, 0),\n",
       " datetime.datetime(2019, 6, 13, 0, 0),\n",
       " datetime.datetime(2019, 6, 14, 0, 0),\n",
       " datetime.datetime(2019, 6, 15, 0, 0),\n",
       " datetime.datetime(2019, 6, 16, 0, 0),\n",
       " datetime.datetime(2019, 6, 17, 0, 0),\n",
       " datetime.datetime(2019, 6, 18, 0, 0),\n",
       " datetime.datetime(2019, 6, 19, 0, 0),\n",
       " datetime.datetime(2019, 6, 20, 0, 0),\n",
       " datetime.datetime(2019, 6, 21, 0, 0),\n",
       " datetime.datetime(2019, 6, 22, 0, 0),\n",
       " datetime.datetime(2019, 6, 23, 0, 0),\n",
       " datetime.datetime(2019, 6, 24, 0, 0),\n",
       " datetime.datetime(2019, 6, 25, 0, 0),\n",
       " datetime.datetime(2019, 6, 26, 0, 0),\n",
       " datetime.datetime(2019, 6, 27, 0, 0),\n",
       " datetime.datetime(2019, 6, 28, 0, 0),\n",
       " datetime.datetime(2019, 6, 29, 0, 0),\n",
       " datetime.datetime(2019, 6, 30, 0, 0),\n",
       " datetime.datetime(2019, 7, 1, 0, 0),\n",
       " datetime.datetime(2019, 7, 2, 0, 0),\n",
       " datetime.datetime(2019, 7, 3, 0, 0),\n",
       " datetime.datetime(2019, 7, 4, 0, 0),\n",
       " datetime.datetime(2019, 7, 5, 0, 0),\n",
       " datetime.datetime(2019, 7, 6, 0, 0),\n",
       " datetime.datetime(2019, 7, 7, 0, 0),\n",
       " datetime.datetime(2019, 7, 8, 0, 0),\n",
       " datetime.datetime(2019, 7, 9, 0, 0),\n",
       " datetime.datetime(2019, 7, 10, 0, 0),\n",
       " datetime.datetime(2019, 7, 11, 0, 0),\n",
       " datetime.datetime(2019, 7, 12, 0, 0),\n",
       " datetime.datetime(2019, 7, 13, 0, 0),\n",
       " datetime.datetime(2019, 7, 14, 0, 0),\n",
       " datetime.datetime(2019, 7, 15, 0, 0),\n",
       " datetime.datetime(2019, 7, 16, 0, 0),\n",
       " datetime.datetime(2019, 7, 17, 0, 0),\n",
       " datetime.datetime(2019, 7, 18, 0, 0),\n",
       " datetime.datetime(2019, 7, 19, 0, 0),\n",
       " datetime.datetime(2019, 7, 20, 0, 0),\n",
       " datetime.datetime(2019, 7, 21, 0, 0),\n",
       " datetime.datetime(2019, 7, 22, 0, 0),\n",
       " datetime.datetime(2019, 7, 23, 0, 0),\n",
       " datetime.datetime(2019, 7, 24, 0, 0),\n",
       " datetime.datetime(2019, 7, 25, 0, 0),\n",
       " datetime.datetime(2019, 7, 26, 0, 0),\n",
       " datetime.datetime(2019, 7, 27, 0, 0),\n",
       " datetime.datetime(2019, 7, 28, 0, 0),\n",
       " datetime.datetime(2019, 7, 29, 0, 0),\n",
       " datetime.datetime(2019, 7, 30, 0, 0),\n",
       " datetime.datetime(2019, 7, 31, 0, 0),\n",
       " datetime.datetime(2019, 8, 1, 0, 0),\n",
       " datetime.datetime(2019, 8, 2, 0, 0),\n",
       " datetime.datetime(2019, 8, 3, 0, 0),\n",
       " datetime.datetime(2019, 8, 4, 0, 0),\n",
       " datetime.datetime(2019, 8, 5, 0, 0),\n",
       " datetime.datetime(2019, 8, 6, 0, 0),\n",
       " datetime.datetime(2019, 8, 7, 0, 0),\n",
       " datetime.datetime(2019, 8, 8, 0, 0),\n",
       " datetime.datetime(2019, 8, 9, 0, 0),\n",
       " datetime.datetime(2019, 8, 10, 0, 0),\n",
       " datetime.datetime(2019, 8, 11, 0, 0),\n",
       " datetime.datetime(2019, 8, 12, 0, 0),\n",
       " datetime.datetime(2019, 8, 13, 0, 0),\n",
       " datetime.datetime(2019, 8, 14, 0, 0),\n",
       " datetime.datetime(2019, 8, 15, 0, 0),\n",
       " datetime.datetime(2019, 8, 16, 0, 0),\n",
       " datetime.datetime(2019, 8, 23, 0, 0),\n",
       " datetime.datetime(2019, 8, 28, 0, 0),\n",
       " datetime.datetime(2019, 8, 30, 0, 0),\n",
       " datetime.datetime(2019, 9, 3, 0, 0),\n",
       " datetime.datetime(2019, 9, 4, 0, 0),\n",
       " datetime.datetime(2019, 9, 5, 0, 0),\n",
       " datetime.datetime(2019, 9, 6, 0, 0),\n",
       " datetime.datetime(2019, 9, 7, 0, 0),\n",
       " datetime.datetime(2019, 9, 8, 0, 0),\n",
       " datetime.datetime(2019, 9, 9, 0, 0),\n",
       " datetime.datetime(2019, 9, 10, 0, 0),\n",
       " datetime.datetime(2019, 9, 11, 0, 0),\n",
       " datetime.datetime(2019, 9, 12, 0, 0),\n",
       " datetime.datetime(2019, 9, 13, 0, 0),\n",
       " datetime.datetime(2019, 9, 14, 0, 0),\n",
       " datetime.datetime(2019, 9, 15, 0, 0),\n",
       " datetime.datetime(2019, 9, 16, 0, 0),\n",
       " datetime.datetime(2019, 9, 17, 0, 0),\n",
       " datetime.datetime(2019, 9, 18, 0, 0),\n",
       " datetime.datetime(2019, 9, 19, 0, 0),\n",
       " datetime.datetime(2019, 9, 20, 0, 0),\n",
       " datetime.datetime(2019, 9, 21, 0, 0),\n",
       " datetime.datetime(2019, 9, 22, 0, 0),\n",
       " datetime.datetime(2019, 9, 23, 0, 0),\n",
       " datetime.datetime(2019, 9, 24, 0, 0),\n",
       " datetime.datetime(2019, 9, 25, 0, 0),\n",
       " datetime.datetime(2019, 9, 26, 0, 0),\n",
       " datetime.datetime(2019, 9, 27, 0, 0),\n",
       " datetime.datetime(2019, 9, 28, 0, 0),\n",
       " datetime.datetime(2019, 9, 29, 0, 0),\n",
       " datetime.datetime(2019, 9, 30, 0, 0),\n",
       " datetime.datetime(2019, 10, 1, 0, 0),\n",
       " datetime.datetime(2019, 10, 2, 0, 0),\n",
       " datetime.datetime(2019, 10, 3, 0, 0),\n",
       " datetime.datetime(2019, 10, 4, 0, 0),\n",
       " datetime.datetime(2019, 10, 5, 0, 0),\n",
       " datetime.datetime(2019, 10, 6, 0, 0),\n",
       " datetime.datetime(2019, 10, 7, 0, 0),\n",
       " datetime.datetime(2019, 10, 8, 0, 0),\n",
       " datetime.datetime(2019, 10, 9, 0, 0),\n",
       " datetime.datetime(2019, 10, 10, 0, 0),\n",
       " datetime.datetime(2019, 10, 11, 0, 0),\n",
       " datetime.datetime(2019, 10, 12, 0, 0),\n",
       " datetime.datetime(2019, 10, 13, 0, 0),\n",
       " datetime.datetime(2019, 10, 14, 0, 0),\n",
       " datetime.datetime(2019, 10, 15, 0, 0),\n",
       " datetime.datetime(2019, 10, 16, 0, 0),\n",
       " datetime.datetime(2019, 10, 17, 0, 0),\n",
       " datetime.datetime(2019, 10, 18, 0, 0),\n",
       " datetime.datetime(2019, 10, 19, 0, 0),\n",
       " datetime.datetime(2019, 10, 20, 0, 0),\n",
       " datetime.datetime(2019, 10, 21, 0, 0),\n",
       " datetime.datetime(2019, 10, 22, 0, 0),\n",
       " datetime.datetime(2019, 10, 23, 0, 0),\n",
       " datetime.datetime(2019, 10, 24, 0, 0),\n",
       " datetime.datetime(2019, 10, 25, 0, 0),\n",
       " datetime.datetime(2019, 10, 26, 0, 0),\n",
       " datetime.datetime(2019, 10, 27, 0, 0),\n",
       " datetime.datetime(2019, 10, 28, 0, 0),\n",
       " datetime.datetime(2019, 10, 29, 0, 0),\n",
       " datetime.datetime(2019, 10, 31, 0, 0),\n",
       " datetime.datetime(2019, 11, 1, 0, 0),\n",
       " datetime.datetime(2019, 11, 2, 0, 0),\n",
       " datetime.datetime(2019, 11, 3, 0, 0),\n",
       " datetime.datetime(2019, 11, 4, 0, 0),\n",
       " datetime.datetime(2019, 11, 5, 0, 0),\n",
       " datetime.datetime(2019, 11, 6, 0, 0),\n",
       " datetime.datetime(2019, 11, 7, 0, 0),\n",
       " datetime.datetime(2019, 11, 8, 0, 0),\n",
       " datetime.datetime(2019, 11, 9, 0, 0),\n",
       " datetime.datetime(2019, 11, 10, 0, 0),\n",
       " datetime.datetime(2019, 11, 11, 0, 0),\n",
       " datetime.datetime(2019, 11, 12, 0, 0),\n",
       " datetime.datetime(2019, 11, 13, 0, 0),\n",
       " datetime.datetime(2019, 11, 14, 0, 0),\n",
       " datetime.datetime(2019, 11, 15, 0, 0),\n",
       " datetime.datetime(2019, 11, 16, 0, 0),\n",
       " datetime.datetime(2019, 11, 17, 0, 0),\n",
       " datetime.datetime(2019, 11, 18, 0, 0),\n",
       " datetime.datetime(2019, 11, 19, 0, 0),\n",
       " datetime.datetime(2019, 11, 20, 0, 0),\n",
       " datetime.datetime(2019, 11, 21, 0, 0),\n",
       " datetime.datetime(2019, 11, 22, 0, 0),\n",
       " datetime.datetime(2019, 11, 23, 0, 0),\n",
       " datetime.datetime(2019, 11, 24, 0, 0),\n",
       " datetime.datetime(2019, 11, 25, 0, 0),\n",
       " datetime.datetime(2019, 11, 26, 0, 0),\n",
       " datetime.datetime(2019, 11, 27, 0, 0),\n",
       " datetime.datetime(2019, 11, 28, 0, 0),\n",
       " datetime.datetime(2019, 11, 29, 0, 0),\n",
       " datetime.datetime(2019, 11, 30, 0, 0),\n",
       " datetime.datetime(2019, 12, 1, 0, 0),\n",
       " datetime.datetime(2019, 12, 2, 0, 0),\n",
       " datetime.datetime(2019, 12, 3, 0, 0),\n",
       " datetime.datetime(2019, 12, 4, 0, 0),\n",
       " datetime.datetime(2019, 12, 5, 0, 0),\n",
       " datetime.datetime(2019, 12, 6, 0, 0),\n",
       " datetime.datetime(2019, 12, 7, 0, 0),\n",
       " datetime.datetime(2019, 12, 8, 0, 0),\n",
       " datetime.datetime(2019, 12, 9, 0, 0),\n",
       " datetime.datetime(2019, 12, 10, 0, 0),\n",
       " datetime.datetime(2019, 12, 11, 0, 0),\n",
       " datetime.datetime(2019, 12, 12, 0, 0),\n",
       " datetime.datetime(2019, 12, 13, 0, 0),\n",
       " datetime.datetime(2019, 12, 14, 0, 0),\n",
       " datetime.datetime(2019, 12, 15, 0, 0),\n",
       " datetime.datetime(2019, 12, 16, 0, 0),\n",
       " datetime.datetime(2019, 12, 17, 0, 0),\n",
       " datetime.datetime(2019, 12, 18, 0, 0),\n",
       " datetime.datetime(2019, 12, 19, 0, 0),\n",
       " datetime.datetime(2019, 12, 20, 0, 0),\n",
       " datetime.datetime(2019, 12, 21, 0, 0),\n",
       " datetime.datetime(2019, 12, 22, 0, 0),\n",
       " datetime.datetime(2019, 12, 23, 0, 0),\n",
       " datetime.datetime(2019, 12, 24, 0, 0),\n",
       " datetime.datetime(2019, 12, 25, 0, 0),\n",
       " datetime.datetime(2019, 12, 26, 0, 0),\n",
       " datetime.datetime(2019, 12, 27, 0, 0),\n",
       " datetime.datetime(2019, 12, 28, 0, 0),\n",
       " datetime.datetime(2019, 12, 29, 0, 0),\n",
       " datetime.datetime(2019, 12, 30, 0, 0),\n",
       " datetime.datetime(2019, 12, 31, 0, 0)]"
      ]
     },
     "execution_count": 7,
     "metadata": {},
     "output_type": "execute_result"
    }
   ],
   "source": [
    "dates"
   ]
  },
  {
   "cell_type": "code",
   "execution_count": 8,
   "metadata": {},
   "outputs": [],
   "source": [
    "# Import matplotlib for plotting and use magic command for Jupyter Notebooks\n",
    "import matplotlib.pyplot as plt\n",
    "\n",
    "%matplotlib inline\n",
    "\n",
    "# Set the style\n",
    "plt.style.use('fivethirtyeight')"
   ]
  },
  {
   "cell_type": "code",
   "execution_count": 9,
   "metadata": {},
   "outputs": [
    {
     "data": {
      "image/png": "[encoded data removed]",
      "text/plain": [
       "<Figure size 720x720 with 4 Axes>"
      ]
     },
     "metadata": {},
     "output_type": "display_data"
    }
   ],
   "source": [
    "# Set up the plotting layout\n",
    "fig, ((ax1, ax2), (ax3, ax4)) = plt.subplots(nrows=2, ncols=2, figsize = (10,10))\n",
    "fig.autofmt_xdate(rotation = 45)\n",
    "\n",
    "# Actual max temperature measurement\n",
    "ax1.plot(dates, features['actual'])\n",
    "ax1.set_xlabel(''); ax1.set_ylabel('Temperature'); ax1.set_title('Max Temp')\n",
    "\n",
    "# Temperature from 1 day ago\n",
    "ax2.plot(dates, features['temp_1'])\n",
    "ax2.set_xlabel(''); ax2.set_ylabel('Temperature'); ax2.set_title('Previous Day Max Temp')\n",
    "\n",
    "# Temperature from 2 days ago\n",
    "ax3.plot(dates, features['temp_2'])\n",
    "ax3.set_xlabel('Date'); ax3.set_ylabel('Temperature'); ax3.set_title('Two Days Prior Max Temp')\n",
    "\n",
    "# Friend Estimate\n",
    "ax4.plot(dates, features['friend'])\n",
    "ax4.set_xlabel('Date'); ax4.set_ylabel('Temperature'); ax4.set_title('Friend Estimate')\n",
    "\n",
    "plt.tight_layout(pad=2)"
   ]
  },
  {
   "cell_type": "markdown",
   "metadata": {},
   "source": [
    "### 2.2 One-Hot Encoding\n",
    "\n",
    "#### Takes categorical variables, such as days of the week and converts it to a numerical representation without an arbitrary ordering. \n"
   ]
  },
  {
   "cell_type": "code",
   "execution_count": 10,
   "metadata": {
    "hideCode": false,
    "hidePrompt": false
   },
   "outputs": [
    {
     "data": {
      "text/html": [
       "<div>\n",
       "<style scoped>\n",
       "    .dataframe tbody tr th:only-of-type {\n",
       "        vertical-align: middle;\n",
       "    }\n",
       "\n",
       "    .dataframe tbody tr th {\n",
       "        vertical-align: top;\n",
       "    }\n",
       "\n",
       "    .dataframe thead th {\n",
       "        text-align: right;\n",
       "    }\n",
       "</style>\n",
       "<table border=\"1\" class=\"dataframe\">\n",
       "  <thead>\n",
       "    <tr style=\"text-align: right;\">\n",
       "      <th></th>\n",
       "      <th>year</th>\n",
       "      <th>month</th>\n",
       "      <th>day</th>\n",
       "      <th>temp_2</th>\n",
       "      <th>temp_1</th>\n",
       "      <th>average</th>\n",
       "      <th>actual</th>\n",
       "      <th>friend</th>\n",
       "      <th>week_Fri</th>\n",
       "      <th>week_Mon</th>\n",
       "      <th>week_Sat</th>\n",
       "      <th>week_Sun</th>\n",
       "      <th>week_Thurs</th>\n",
       "      <th>week_Tues</th>\n",
       "      <th>week_Wed</th>\n",
       "    </tr>\n",
       "  </thead>\n",
       "  <tbody>\n",
       "    <tr>\n",
       "      <th>0</th>\n",
       "      <td>2019</td>\n",
       "      <td>1</td>\n",
       "      <td>1</td>\n",
       "      <td>45</td>\n",
       "      <td>45</td>\n",
       "      <td>45.6</td>\n",
       "      <td>45</td>\n",
       "      <td>29</td>\n",
       "      <td>1</td>\n",
       "      <td>0</td>\n",
       "      <td>0</td>\n",
       "      <td>0</td>\n",
       "      <td>0</td>\n",
       "      <td>0</td>\n",
       "      <td>0</td>\n",
       "    </tr>\n",
       "    <tr>\n",
       "      <th>1</th>\n",
       "      <td>2019</td>\n",
       "      <td>1</td>\n",
       "      <td>2</td>\n",
       "      <td>44</td>\n",
       "      <td>45</td>\n",
       "      <td>45.7</td>\n",
       "      <td>44</td>\n",
       "      <td>61</td>\n",
       "      <td>0</td>\n",
       "      <td>0</td>\n",
       "      <td>1</td>\n",
       "      <td>0</td>\n",
       "      <td>0</td>\n",
       "      <td>0</td>\n",
       "      <td>0</td>\n",
       "    </tr>\n",
       "    <tr>\n",
       "      <th>2</th>\n",
       "      <td>2019</td>\n",
       "      <td>1</td>\n",
       "      <td>3</td>\n",
       "      <td>45</td>\n",
       "      <td>44</td>\n",
       "      <td>45.8</td>\n",
       "      <td>41</td>\n",
       "      <td>56</td>\n",
       "      <td>0</td>\n",
       "      <td>0</td>\n",
       "      <td>0</td>\n",
       "      <td>1</td>\n",
       "      <td>0</td>\n",
       "      <td>0</td>\n",
       "      <td>0</td>\n",
       "    </tr>\n",
       "    <tr>\n",
       "      <th>3</th>\n",
       "      <td>2019</td>\n",
       "      <td>1</td>\n",
       "      <td>4</td>\n",
       "      <td>44</td>\n",
       "      <td>41</td>\n",
       "      <td>45.9</td>\n",
       "      <td>40</td>\n",
       "      <td>53</td>\n",
       "      <td>0</td>\n",
       "      <td>1</td>\n",
       "      <td>0</td>\n",
       "      <td>0</td>\n",
       "      <td>0</td>\n",
       "      <td>0</td>\n",
       "      <td>0</td>\n",
       "    </tr>\n",
       "    <tr>\n",
       "      <th>4</th>\n",
       "      <td>2019</td>\n",
       "      <td>1</td>\n",
       "      <td>5</td>\n",
       "      <td>41</td>\n",
       "      <td>40</td>\n",
       "      <td>46.0</td>\n",
       "      <td>44</td>\n",
       "      <td>41</td>\n",
       "      <td>0</td>\n",
       "      <td>0</td>\n",
       "      <td>0</td>\n",
       "      <td>0</td>\n",
       "      <td>0</td>\n",
       "      <td>1</td>\n",
       "      <td>0</td>\n",
       "    </tr>\n",
       "  </tbody>\n",
       "</table>\n",
       "</div>"
      ],
      "text/plain": [
       "   year  month  day  temp_2  temp_1  average  actual  friend  week_Fri  \\\n",
       "0  2019      1    1      45      45     45.6      45      29         1   \n",
       "1  2019      1    2      44      45     45.7      44      61         0   \n",
       "2  2019      1    3      45      44     45.8      41      56         0   \n",
       "3  2019      1    4      44      41     45.9      40      53         0   \n",
       "4  2019      1    5      41      40     46.0      44      41         0   \n",
       "\n",
       "   week_Mon  week_Sat  week_Sun  week_Thurs  week_Tues  week_Wed  \n",
       "0         0         0         0           0          0         0  \n",
       "1         0         1         0           0          0         0  \n",
       "2         0         0         1           0          0         0  \n",
       "3         1         0         0           0          0         0  \n",
       "4         0         0         0           0          1         0  "
      ]
     },
     "execution_count": 10,
     "metadata": {},
     "output_type": "execute_result"
    }
   ],
   "source": [
    "# One-hot encode categorical features\n",
    "features = pd.get_dummies(features)\n",
    "features.head(5)"
   ]
  },
  {
   "cell_type": "code",
   "execution_count": 11,
   "metadata": {},
   "outputs": [
    {
     "name": "stdout",
     "output_type": "stream",
     "text": [
      "Shape of features after one-hot encoding: (348, 15)\n"
     ]
    }
   ],
   "source": [
    "print('Shape of features after one-hot encoding:', features.shape)"
   ]
  },
  {
   "cell_type": "markdown",
   "metadata": {},
   "source": [
    "### 2.3 Convert Features and Labels and Convert Data to Arrays\n",
    "\n",
    "#### 1) Separate the data into features and targets. \n"
   ]
  },
  {
   "cell_type": "code",
   "execution_count": 12,
   "metadata": {},
   "outputs": [],
   "source": [
    "# Use numpy to convert to arrays\n",
    "import numpy as np\n",
    "\n",
    "# Labels are the values we want to predict\n",
    "labels = np.array(features['actual'])\n",
    "\n",
    "# Remove the labels from the features\n",
    "# axis 1 refers to the columns\n",
    "features= features.drop('actual', axis = 1)\n",
    "\n",
    "# Saving feature names for later use\n",
    "feature_list = list(features.columns)\n",
    "\n",
    "# Convert to numpy array\n",
    "features = np.array(features)"
   ]
  },
  {
   "cell_type": "markdown",
   "metadata": {},
   "source": [
    "### 2.4 Split the data into Training and Testing Sets"
   ]
  },
  {
   "cell_type": "code",
   "execution_count": 13,
   "metadata": {},
   "outputs": [],
   "source": [
    "# Using Skicit-learn to split data into training and testing sets\n",
    "from sklearn.model_selection import train_test_split\n",
    "\n",
    "# Split the data into training and testing sets\n",
    "train_features, test_features, train_labels, test_labels = train_test_split(features, \n",
    "                                                                            labels, \n",
    "                                                                            test_size = 0.25,\n",
    "                                                                            random_state = 42)"
   ]
  },
  {
   "cell_type": "code",
   "execution_count": 14,
   "metadata": {},
   "outputs": [
    {
     "name": "stdout",
     "output_type": "stream",
     "text": [
      "Training Features Shape: (261, 14)\n",
      "Training Labels Shape: (261,)\n",
      "Testing Features Shape: (87, 14)\n",
      "Testing Labels Shape: (87,)\n"
     ]
    }
   ],
   "source": [
    "print('Training Features Shape:', train_features.shape)\n",
    "print('Training Labels Shape:', train_labels.shape)\n",
    "print('Testing Features Shape:', test_features.shape)\n",
    "print('Testing Labels Shape:', test_labels.shape)"
   ]
  },
  {
   "cell_type": "markdown",
   "metadata": {},
   "source": [
    "# 4. Train Model\n",
    "\n",
    "We import the random forest regression model from skicit-learn, instantiate the model, and fit (scikit-learn’s name for training) the model on the training data. (setting the random state for reproducible results)."
   ]
  },
  {
   "cell_type": "code",
   "execution_count": 17,
   "metadata": {
    "hideCode": false,
    "hidePrompt": false
   },
   "outputs": [
    {
     "data": {
      "text/plain": [
       "RandomForestRegressor(random_state=42)"
      ]
     },
     "execution_count": 17,
     "metadata": {},
     "output_type": "execute_result"
    }
   ],
   "source": [
    "# Import the model we are using\n",
    "from sklearn.ensemble import RandomForestRegressor\n",
    "\n",
    "# Instantiate model - 100 trees\n",
    "rf = RandomForestRegressor(n_estimators= 100, \n",
    "                           random_state=42)\n",
    "\n",
    "# Train the model on training data\n",
    "rf.fit(train_features, train_labels)"
   ]
  },
  {
   "cell_type": "markdown",
   "metadata": {},
   "source": [
    "# 5. Make Predictions on Test Data\n",
    "\n",
    "Our model has now been trained to learn the relationships between the features and the targets. The next step is figuring out how good the model is! To do this we make predictions on the test features (the model is never allowed to see the test answers). \n",
    "\n",
    "We then compare the predictions to the known answers. When performing regression, we need to make sure to use the absolute error because we expect some of our answers to be low and some to be high. "
   ]
  },
  {
   "cell_type": "code",
   "execution_count": 18,
   "metadata": {},
   "outputs": [
    {
     "name": "stdout",
     "output_type": "stream",
     "text": [
      "Mean Absolute Error: 3.92 degrees.\n"
     ]
    }
   ],
   "source": [
    "# Use the forest's predict method on the test data\n",
    "predictions = rf.predict(test_features)\n",
    "\n",
    "# Calculate the absolute errors\n",
    "errors = abs(predictions - test_labels)\n",
    "\n",
    "# Print out the mean absolute error (mae)\n",
    "print('Mean Absolute Error:', round(np.mean(errors), 2), 'degrees.')\n"
   ]
  },
  {
   "cell_type": "markdown",
   "metadata": {},
   "source": [
    "#####  Still we may not be happy"
   ]
  },
  {
   "cell_type": "markdown",
   "metadata": {},
   "source": [
    "# 6. Determine Performance Metrics"
   ]
  },
  {
   "cell_type": "code",
   "execution_count": 19,
   "metadata": {},
   "outputs": [
    {
     "name": "stdout",
     "output_type": "stream",
     "text": [
      "Accuracy: 93.87 %.\n"
     ]
    }
   ],
   "source": [
    "# Calculate mean absolute percentage error (MAPE)\n",
    "mape = 100 * (errors / test_labels)\n",
    "\n",
    "# Calculate and display accuracy\n",
    "accuracy = 100 - np.mean(mape)\n",
    "print('Accuracy:', round(accuracy, 2), '%.')"
   ]
  },
  {
   "cell_type": "markdown",
   "metadata": {},
   "source": [
    "# 7. Improve Model - Tuning"
   ]
  },
  {
   "cell_type": "markdown",
   "metadata": {},
   "source": [
    "We can create models with different hyperparameters to try and boost performance. The only way to find the best ones\n",
    "are to try a few and evaluate them! "
   ]
  },
  {
   "cell_type": "code",
   "execution_count": 20,
   "metadata": {},
   "outputs": [
    {
     "data": {
      "text/plain": [
       "RandomForestRegressor(max_depth=5, n_estimators=500)"
      ]
     },
     "execution_count": 20,
     "metadata": {},
     "output_type": "execute_result"
    }
   ],
   "source": [
    "rf_new = RandomForestRegressor(n_estimators = 500, \n",
    "                               criterion = 'mse', \n",
    "                               max_depth = 5\n",
    "                              )\n",
    "# Train the model on training data\n",
    "rf_new.fit(train_features, train_labels)"
   ]
  },
  {
   "cell_type": "code",
   "execution_count": 21,
   "metadata": {},
   "outputs": [
    {
     "name": "stdout",
     "output_type": "stream",
     "text": [
      "Mean Absolute Error: 3.8 degrees.\n"
     ]
    }
   ],
   "source": [
    "# Use the forest's predict method on the test data with new model rf_new\n",
    "predictions2 = rf_new.predict(test_features)\n",
    "\n",
    "# Calculate the absolute errors\n",
    "errors = abs(predictions2 - test_labels)\n",
    "\n",
    "# Print out the mean absolute error (mae)\n",
    "print('Mean Absolute Error:', round(np.mean(errors), 2), 'degrees.')\n"
   ]
  },
  {
   "cell_type": "markdown",
   "metadata": {},
   "source": [
    "#### New model has improved the error from 3.97 to 3.81\n",
    "#### We can tune other hyper paramters as well..."
   ]
  },
  {
   "cell_type": "markdown",
   "metadata": {},
   "source": [
    "# 8. Variable importance and feature selection\n",
    "\n",
    "At this point, we know our model is good, but it’s pretty much a black box. We feed in some Numpy arrays for training, ask it to make a prediction, evaluate the predictions, and see that they are reasonable. \n",
    "\n",
    "\n",
    "\n",
    "we can look at the feature importances of our explanatory variables."
   ]
  },
  {
   "cell_type": "markdown",
   "metadata": {},
   "source": [
    "### 8.1 Variable Importances\n",
    "\n",
    "- In order to quantify the usefulness of all the variables in the entire random forest, we can look at the relative importances of the variables. \n",
    "\n",
    "- The importances returned in Skicit-learn represent how much including a particular variable improves the prediction."
   ]
  },
  {
   "cell_type": "code",
   "execution_count": 22,
   "metadata": {},
   "outputs": [
    {
     "data": {
      "text/plain": [
       "array([0.        , 0.01295808, 0.02494456, 0.0227458 , 0.72733161,\n",
       "       0.16517316, 0.02492068, 0.00455151, 0.00267595, 0.0050325 ,\n",
       "       0.00300585, 0.00161419, 0.00254124, 0.00250488])"
      ]
     },
     "execution_count": 22,
     "metadata": {},
     "output_type": "execute_result"
    }
   ],
   "source": [
    "# simplest way..\n",
    "rf.feature_importances_"
   ]
  },
  {
   "cell_type": "code",
   "execution_count": 23,
   "metadata": {},
   "outputs": [],
   "source": [
    "# Get numerical feature importances - Represent in a better way\n",
    "importances = list(rf.feature_importances_)\n",
    "\n",
    "# List of tuples with variable and importance\n",
    "feature_importances = [(feature, round(importance, 2)) for feature, importance in zip(feature_list, importances)]\n",
    "\n",
    "# Sort the feature importances by most important first\n",
    "feature_importances = sorted(feature_importances, key = lambda x: x[1], reverse = True)"
   ]
  },
  {
   "cell_type": "code",
   "execution_count": 24,
   "metadata": {},
   "outputs": [
    {
     "name": "stdout",
     "output_type": "stream",
     "text": [
      "Variable: temp_1          Importance: 0.73\n",
      "Variable: average         Importance: 0.17\n",
      "Variable: day             Importance: 0.02\n",
      "Variable: temp_2          Importance: 0.02\n",
      "Variable: friend          Importance: 0.02\n",
      "Variable: month           Importance: 0.01\n",
      "Variable: week_Sat        Importance: 0.01\n",
      "Variable: year            Importance: 0.0\n",
      "Variable: week_Fri        Importance: 0.0\n",
      "Variable: week_Mon        Importance: 0.0\n",
      "Variable: week_Sun        Importance: 0.0\n",
      "Variable: week_Thurs      Importance: 0.0\n",
      "Variable: week_Tues       Importance: 0.0\n",
      "Variable: week_Wed        Importance: 0.0\n"
     ]
    }
   ],
   "source": [
    "# Print out the feature and importances \n",
    "[print('Variable: {:15} Importance: {}'.format(*pair)) for pair in feature_importances];"
   ]
  },
  {
   "cell_type": "markdown",
   "metadata": {},
   "source": [
    "- First, At the top of the list is temp_1, the max temperature of the day before. This tells us the best predictor of the max temperature for a day is the max temperature of the day before, a rather intuitive finding. \n",
    "\n",
    "- The second most important factor is the historical average max temperature, also not that surprising. \n",
    "\n",
    "- Your friend turns out to not be very helpful, along with the day of the week, the year, the month, and the temperature 2 days prior. \n",
    "\n",
    "- These importances all make sense as we would not expect the day of the week to be a predictor of maximum temperature as it has nothing to do with weather. \n",
    "\n",
    "- Moreover, the year is the same for all data points and hence provides us with no information for predicting the max temperature."
   ]
  },
  {
   "cell_type": "markdown",
   "metadata": {},
   "source": [
    "### 8.2 Model with Two Most Important Features\n",
    "\n",
    "we can remove those variables that have no importance and the performance will not suffer. Additionally, if we are using a different model, say a support vector machine, we could use the random forest feature importances as a kind of feature selection method."
   ]
  },
  {
   "cell_type": "code",
   "execution_count": 25,
   "metadata": {},
   "outputs": [
    {
     "name": "stdout",
     "output_type": "stream",
     "text": [
      "Mean Absolute Error: 3.92 degrees.\n",
      "Accuracy: 93.76 %.\n"
     ]
    }
   ],
   "source": [
    "# New random forest with only the two most important variables\n",
    "rf_most_important = RandomForestRegressor(n_estimators= 1000, \n",
    "                                          random_state=42)\n",
    "\n",
    "# Extract the two most important features\n",
    "important_indices = [feature_list.index('temp_1'), feature_list.index('average')]\n",
    "train_important = train_features[:, important_indices]\n",
    "test_important = test_features[:, important_indices]\n",
    "\n",
    "# Train the random forest\n",
    "rf_most_important.fit(train_important, train_labels)\n",
    "\n",
    "# Make predictions and determine the error\n",
    "predictions = rf_most_important.predict(test_important)\n",
    "\n",
    "errors = abs(predictions - test_labels)\n",
    "\n",
    "# Display the performance metrics\n",
    "print('Mean Absolute Error:', round(np.mean(errors), 2), 'degrees.')\n",
    "\n",
    "mape = np.mean(100 * (errors / test_labels))\n",
    "accuracy = 100 - mape\n",
    "\n",
    "print('Accuracy:', round(accuracy, 2), '%.')"
   ]
  },
  {
   "cell_type": "markdown",
   "metadata": {},
   "source": [
    "This tells us that we actually do not need all the data we collected to make accurate predictions! If we were to continue using this model, we could only collect the two variables and achieve nearly the same performance. In a production setting, we would need to weigh the decrease in accuracy versus the extra time required to obtain more information. "
   ]
  },
  {
   "cell_type": "markdown",
   "metadata": {
    "collapsed": true
   },
   "source": [
    "## 8.3 Visualizations"
   ]
  },
  {
   "cell_type": "markdown",
   "metadata": {},
   "source": [
    "### 8.3.1 Variable Importances"
   ]
  },
  {
   "cell_type": "code",
   "execution_count": 26,
   "metadata": {},
   "outputs": [
    {
     "data": {
      "image/png": "[encoded data removed]",
      "text/plain": [
       "<Figure size 432x288 with 1 Axes>"
      ]
     },
     "metadata": {},
     "output_type": "display_data"
    }
   ],
   "source": [
    "# list of x locations for plotting\n",
    "x_values = list(range(len(importances)))\n",
    "\n",
    "# Make a bar chart\n",
    "plt.bar(x_values, importances, orientation = 'vertical')\n",
    "\n",
    "# Tick labels for x axis\n",
    "plt.xticks(x_values, feature_list, rotation='vertical')\n",
    "\n",
    "# Axis labels and title\n",
    "plt.ylabel('Importance'); plt.xlabel('Variable'); plt.title('Variable Importances'); "
   ]
  },
  {
   "cell_type": "markdown",
   "metadata": {},
   "source": [
    "### 8.3.2. Predictions and Actual Values\n",
    "\n",
    "we can plot the entire dataset with predictions highlighted. This requires a little data manipulation, but its not too difficult. We can use this plot to determine if there are any outliers in either the data or our predictions."
   ]
  },
  {
   "cell_type": "code",
   "execution_count": 27,
   "metadata": {},
   "outputs": [],
   "source": [
    "# Dates of training values\n",
    "months = features[:, feature_list.index('month')]\n",
    "days = features[:, feature_list.index('day')]\n",
    "years = features[:, feature_list.index('year')]\n",
    "\n",
    "# List and then convert to datetime object\n",
    "dates = [str(int(year)) + '-' + str(int(month)) + '-' + str(int(day)) for year, month, day in zip(years, months, days)]\n",
    "dates = [datetime.datetime.strptime(date, '%Y-%m-%d') for date in dates]\n",
    "\n",
    "# Dataframe with true values and dates\n",
    "true_data = pd.DataFrame(data = {'date': dates, 'actual': labels})\n",
    "\n",
    "# Dates of predictions\n",
    "months = test_features[:, feature_list.index('month')]\n",
    "days = test_features[:, feature_list.index('day')]\n",
    "years = test_features[:, feature_list.index('year')]\n",
    "\n",
    "# Column of dates\n",
    "test_dates = [str(int(year)) + '-' + str(int(month)) + '-' + str(int(day)) for year, month, day in zip(years, months, days)]\n",
    "\n",
    "# Convert to datetime objects\n",
    "test_dates = [datetime.datetime.strptime(date, '%Y-%m-%d') for date in test_dates]\n",
    "\n",
    "# Dataframe with predictions and dates\n",
    "predictions_data = pd.DataFrame(data = {'date': test_dates, 'prediction': predictions}) "
   ]
  },
  {
   "cell_type": "code",
   "execution_count": 28,
   "metadata": {},
   "outputs": [
    {
     "data": {
      "image/png": "[encoded data removed]",
      "text/plain": [
       "<Figure size 432x288 with 1 Axes>"
      ]
     },
     "metadata": {},
     "output_type": "display_data"
    }
   ],
   "source": [
    "# Plot the actual values\n",
    "plt.plot(true_data['date'], true_data['actual'], 'b-', label = 'actual')\n",
    "\n",
    "# Plot the predicted values\n",
    "plt.plot(predictions_data['date'], predictions_data['prediction'], 'ro', label = 'prediction')\n",
    "plt.xticks(rotation = '60'); \n",
    "plt.legend()\n",
    "\n",
    "# Graph labels\n",
    "plt.xlabel('Date'); plt.ylabel('Maximum Temperature (F)'); plt.title('Actual and Predicted Values');\n"
   ]
  },
  {
   "cell_type": "markdown",
   "metadata": {},
   "source": [
    "### Targets and Data Visualization\n",
    "\n",
    "The previous graph doesn’t look as if we have any noticeable outliers that need to be corrected. To further diagnose the model, we can plot residuals (the errors) to see if our model has a tendency to over-predict or under-predict, and we can also see if the residuals are normally distributed. However, I will just make one final chart showing the actual values, the temperature one day previous, the historical average, and our friend’s prediction. This will allow us to see the difference between useful variables and those that aren’t so helpful."
   ]
  },
  {
   "cell_type": "code",
   "execution_count": 29,
   "metadata": {},
   "outputs": [
    {
     "data": {
      "image/png": "[encoded data removed]",
      "text/plain": [
       "<Figure size 432x288 with 1 Axes>"
      ]
     },
     "metadata": {},
     "output_type": "display_data"
    }
   ],
   "source": [
    "# Make the data accessible for plotting\n",
    "true_data['temp_1'] = features[:, feature_list.index('temp_1')]\n",
    "true_data['average'] = features[:, feature_list.index('average')]\n",
    "true_data['friend'] = features[:, feature_list.index('friend')]\n",
    "\n",
    "# Plot all the data as lines\n",
    "plt.plot(true_data['date'], true_data['actual'], 'b-', label  = 'actual', alpha = 1.0)\n",
    "plt.plot(true_data['date'], true_data['temp_1'], 'y-', label  = 'temp_1', alpha = 1.0)\n",
    "plt.plot(true_data['date'], true_data['average'], 'k-', label = 'average', alpha = 0.8)\n",
    "plt.plot(true_data['date'], true_data['friend'], 'r-', label = 'friend', alpha = 0.3)\n",
    "\n",
    "# Formatting plot\n",
    "plt.legend(); plt.xticks(rotation = '60');\n",
    "\n",
    "# Lables and title\n",
    "plt.xlabel('Date'); plt.ylabel('Maximum Temperature (F)'); plt.title('Actual Max Temp and Variables');"
   ]
  },
  {
   "cell_type": "markdown",
   "metadata": {
    "collapsed": true
   },
   "source": [
    "we can see why the max temperature one day prior and the historical max temperature are useful for predicting max temperature while our friend is not"
   ]
  }
 ],
 "metadata": {
  "hide_code_all_hidden": false,
  "kernelspec": {
   "display_name": "Python 3",
   "language": "python",
   "name": "python3"
  },
  "language_info": {
   "codemirror_mode": {
    "name": "ipython",
    "version": 3
   },
   "file_extension": ".py",
   "mimetype": "text/x-python",
   "name": "python",
   "nbconvert_exporter": "python",
   "pygments_lexer": "ipython3",
   "version": "3.8.5"
  }
 },
 "nbformat": 4,
 "nbformat_minor": 2
}
